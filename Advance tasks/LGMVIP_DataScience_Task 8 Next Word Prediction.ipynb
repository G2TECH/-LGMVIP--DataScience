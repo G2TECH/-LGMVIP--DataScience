{
  "nbformat": 4,
  "nbformat_minor": 0,
  "metadata": {
    "colab": {
      "provenance": [],
      "gpuType": "T4",
      "authorship_tag": "ABX9TyMYojn83c5LoX29z1YnlDYc",
      "include_colab_link": true
    },
    "kernelspec": {
      "name": "python3",
      "display_name": "Python 3"
    },
    "language_info": {
      "name": "python"
    },
    "accelerator": "GPU",
    "gpuClass": "standard"
  },
  "cells": [
    {
      "cell_type": "markdown",
      "metadata": {
        "id": "view-in-github",
        "colab_type": "text"
      },
      "source": [
        "<a href=\"https://colab.research.google.com/github/G2TECH/-LGMVIP--DataScience/blob/main/Task%208%20Next%20Word%20Prediction.ipynb\" target=\"_parent\"><img src=\"https://colab.research.google.com/assets/colab-badge.svg\" alt=\"Open In Colab\"/></a>"
      ]
    },
    {
      "cell_type": "code",
      "execution_count": 1,
      "metadata": {
        "colab": {
          "base_uri": "https://localhost:8080/"
        },
        "id": "o1iUpo51ZRBj",
        "outputId": "cb8993ee-3980-4733-f4b7-2b29417fb69f"
      },
      "outputs": [
        {
          "output_type": "stream",
          "name": "stdout",
          "text": [
            "Epoch 1/5\n",
            "3176/3176 [==============================] - 50s 13ms/step - loss: 6.2578 - accuracy: 0.0769\n",
            "Epoch 2/5\n",
            "3176/3176 [==============================] - 25s 8ms/step - loss: 5.4982 - accuracy: 0.1274\n",
            "Epoch 3/5\n",
            "3176/3176 [==============================] - 24s 8ms/step - loss: 5.0869 - accuracy: 0.1543\n",
            "Epoch 4/5\n",
            "3176/3176 [==============================] - 24s 8ms/step - loss: 4.7434 - accuracy: 0.1744\n",
            "Epoch 5/5\n",
            "3176/3176 [==============================] - 24s 8ms/step - loss: 4.4257 - accuracy: 0.1924\n",
            "your seed text and i have been able to you ” said holmes\n"
          ]
        }
      ],
      "source": [
        "import tensorflow as tf\n",
        "from tensorflow.keras.preprocessing.text import Tokenizer\n",
        "from tensorflow.keras.preprocessing.sequence import pad_sequences\n",
        "from tensorflow.keras.models import Sequential\n",
        "from tensorflow.keras.layers import Embedding, LSTM, Dense\n",
        "\n",
        "# Load the dataset\n",
        "with open('1661-0.txt', 'r') as file:\n",
        "    text_data = file.read()\n",
        "\n",
        "# Tokenize the text\n",
        "tokenizer = Tokenizer()\n",
        "tokenizer.fit_on_texts([text_data])\n",
        "total_words = len(tokenizer.word_index) + 1\n",
        "\n",
        "# Convert text to sequences\n",
        "input_sequences = []\n",
        "for line in text_data.split('\\n'):\n",
        "    token_list = tokenizer.texts_to_sequences([line])[0]\n",
        "    for i in range(1, len(token_list)):\n",
        "        n_gram_sequence = token_list[:i+1]\n",
        "        input_sequences.append(n_gram_sequence)\n",
        "\n",
        "# Pad sequences for equal length\n",
        "max_sequence_length = max([len(seq) for seq in input_sequences])\n",
        "input_sequences = pad_sequences(input_sequences, maxlen=max_sequence_length, padding='pre')\n",
        "\n",
        "# Split input sequences into predictors and labels\n",
        "predictors, label = input_sequences[:, :-1], input_sequences[:, -1]\n",
        "\n",
        "# Convert labels to categorical format\n",
        "label = tf.keras.utils.to_categorical(label, num_classes=total_words)\n",
        "\n",
        "# Define the model architecture\n",
        "model = Sequential()\n",
        "model.add(Embedding(total_words, 100, input_length=max_sequence_length-1))\n",
        "model.add(LSTM(150))\n",
        "model.add(Dense(total_words, activation='softmax'))\n",
        "\n",
        "# Compile the model\n",
        "model.compile(optimizer='adam', loss='categorical_crossentropy', metrics=['accuracy'])\n",
        "\n",
        "# Train the model\n",
        "history = model.fit(predictors, label, epochs=5, verbose=1)\n",
        "\n",
        "# Generate text by predicting the next word\n",
        "seed_text = \"your seed text\"\n",
        "next_words = 10\n",
        "\n",
        "for _ in range(next_words):\n",
        "    token_list = tokenizer.texts_to_sequences([seed_text])[0]\n",
        "    token_list = pad_sequences([token_list], maxlen=max_sequence_length-1, padding='pre')\n",
        "    predicted = model.predict(token_list, verbose=0)\n",
        "    \n",
        "    # Get the word with the highest probability\n",
        "    predicted_word_index = tf.argmax(predicted, axis=-1).numpy()[0]\n",
        "    output_word = \"\"\n",
        "    for word, index in tokenizer.word_index.items():\n",
        "        if index == predicted_word_index:\n",
        "            output_word = word\n",
        "            break\n",
        "    seed_text += \" \" + output_word\n",
        "\n",
        "print(seed_text)\n"
      ]
    }
  ]
}
