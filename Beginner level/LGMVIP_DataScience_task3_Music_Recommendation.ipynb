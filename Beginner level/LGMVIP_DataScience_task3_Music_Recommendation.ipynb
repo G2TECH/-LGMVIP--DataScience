{
  "nbformat": 4,
  "nbformat_minor": 0,
  "metadata": {
    "colab": {
      "provenance": []
    },
    "kernelspec": {
      "name": "python3",
      "display_name": "Python 3"
    },
    "language_info": {
      "name": "python"
    }
  },
  "cells": [
    {
      "cell_type": "code",
      "execution_count": null,
      "metadata": {
        "colab": {
          "base_uri": "https://localhost:8080/"
        },
        "id": "hI9scOX0qway",
        "outputId": "41b53cb2-01e0-463c-8b61-b4fc0e698537"
      },
      "outputs": [
        {
          "output_type": "stream",
          "name": "stdout",
          "text": [
            "Members dataset:\n",
            "                                           msno  city  bd gender  \\\n",
            "0  XQxgAYj3klVKjR3oxPPXYYFp4soD4TuBghkhMTD4oTw=     1   0    NaN   \n",
            "1  UizsfmJb9mV54qE9hCYyU07Va97c0lCRLEQX3ae+ztM=     1   0    NaN   \n",
            "2  D8nEhsIOBSoE6VthTaqDX8U6lqjJ7dLdr72mOyLya2A=     1   0    NaN   \n",
            "3  mCuD+tZ1hERA/o5GPqk38e041J8ZsBaLcu7nGoIIvhI=     1   0    NaN   \n",
            "4  q4HRBfVSssAFS9iRfxWrohxuk9kCYMKjHOEagUMV6rQ=     1   0    NaN   \n",
            "\n",
            "   registered_via  registration_init_time  expiration_date  \n",
            "0               7                20110820         20170920  \n",
            "1               7                20150628         20170622  \n",
            "2               4                20160411         20170712  \n",
            "3               9                20150906         20150907  \n",
            "4               4                20170126         20170613  \n",
            "\n",
            "Songs dataset:\n",
            "                                        song_id  song_length genre_ids  \\\n",
            "0  CXoTN1eb7AI+DntdU1vbcwGRV4SCIDxZu+YD8JP8r4E=       247640       465   \n",
            "1  o0kFgae9QtnYgRkVPqLJwa05zIhRlUjfF7O1tDw0ZDU=       197328       444   \n",
            "2  DwVvVurfpuz+XPuFvucclVQEyPqcpUkHR0ne1RQzPs0=       231781       465   \n",
            "3  dKMBWoZyScdxSkihKG+Vf47nc18N9q4m58+b4e7dSSE=       273554       465   \n",
            "4  W3bqWd3T+VeHFzHAUfARgW9AvVRaF4N5Yzm4Mr6Eo/o=       140329       726   \n",
            "\n",
            "        artist_name                            composer     lyricist  language  \n",
            "0  張信哲 (Jeff Chang)                                  董貞          何啟弘       3.0  \n",
            "1         BLACKPINK  TEDDY|  FUTURE BOUNCE|  Bekuh BOOM        TEDDY      31.0  \n",
            "2      SUPER JUNIOR                                 NaN          NaN      31.0  \n",
            "3             S.H.E                                 湯小康          徐世珍       3.0  \n",
            "4              貴族精選                         Traditional  Traditional      52.0  \n",
            "\n",
            "Train dataset:\n",
            "                                           msno  \\\n",
            "0  FGtllVqz18RPiwJj/edr2gV78zirAiY/9SmYvia+kCg=   \n",
            "1  Xumu+NIjS6QYVxDS4/t3SawvJ7viT9hPKXmf0RtLNx8=   \n",
            "2  Xumu+NIjS6QYVxDS4/t3SawvJ7viT9hPKXmf0RtLNx8=   \n",
            "3  Xumu+NIjS6QYVxDS4/t3SawvJ7viT9hPKXmf0RtLNx8=   \n",
            "4  FGtllVqz18RPiwJj/edr2gV78zirAiY/9SmYvia+kCg=   \n",
            "\n",
            "                                        song_id source_system_tab  \\\n",
            "0  BBzumQNXUHKdEBOB7mAJuzok+IJA1c2Ryg/yzTF6tik=           explore   \n",
            "1  bhp/MpSNoqoxOIB+/l8WPqu6jldth4DIpCm3ayXnJqM=        my library   \n",
            "2  JNWfrrC7zNN7BdMpsISKa4Mw+xVJYNnxXh3/Epw7QgY=        my library   \n",
            "3  2A87tzfnJTSWqD7gIZHisolhe4DMdzkbd6LzO1KHjNs=        my library   \n",
            "4  3qm6XTZ6MOCU11x8FIVbAGH5l5uMkT3/ZalWG1oo2Gc=           explore   \n",
            "\n",
            "    source_screen_name      source_type  target  \n",
            "0              Explore  online-playlist     1.0  \n",
            "1  Local playlist more   local-playlist     1.0  \n",
            "2  Local playlist more   local-playlist     1.0  \n",
            "3  Local playlist more   local-playlist     1.0  \n",
            "4              Explore  online-playlist     1.0  \n"
          ]
        }
      ],
      "source": [
        "# Import the required libraries\n",
        "import pandas as pd\n",
        "\n",
        "# Load the dataset files\n",
        "members = pd.read_csv('members.csv')\n",
        "songs = pd.read_csv('songs.csv')\n",
        "train = pd.read_csv('train.csv')\n",
        "\n",
        "# Explore the dataset\n",
        "print(\"Members dataset:\")\n",
        "print(members.head())\n",
        "print(\"\\nSongs dataset:\")\n",
        "print(songs.head())\n",
        "print(\"\\nTrain dataset:\")\n",
        "print(train.head())\n"
      ]
    },
    {
      "cell_type": "code",
      "source": [
        "\n",
        "!pip install scikit-surprise\n",
        "\n"
      ],
      "metadata": {
        "id": "tguO7EKkORc2",
        "outputId": "2e34fbc1-08ba-476c-a0c0-0ec99a8627c2",
        "colab": {
          "base_uri": "https://localhost:8080/"
        }
      },
      "execution_count": null,
      "outputs": [
        {
          "output_type": "stream",
          "name": "stdout",
          "text": [
            "Looking in indexes: https://pypi.org/simple, https://us-python.pkg.dev/colab-wheels/public/simple/\n",
            "Collecting scikit-surprise\n",
            "  Downloading scikit-surprise-1.1.3.tar.gz (771 kB)\n",
            "\u001b[2K     \u001b[90m━━━━━━━━━━━━━━━━━━━━━━━━━━━━━━━━━━━━━━\u001b[0m \u001b[32m772.0/772.0 kB\u001b[0m \u001b[31m13.0 MB/s\u001b[0m eta \u001b[36m0:00:00\u001b[0m\n",
            "\u001b[?25h  Preparing metadata (setup.py) ... \u001b[?25l\u001b[?25hdone\n",
            "Requirement already satisfied: joblib>=1.0.0 in /usr/local/lib/python3.10/dist-packages (from scikit-surprise) (1.2.0)\n",
            "Requirement already satisfied: numpy>=1.17.3 in /usr/local/lib/python3.10/dist-packages (from scikit-surprise) (1.22.4)\n",
            "Requirement already satisfied: scipy>=1.3.2 in /usr/local/lib/python3.10/dist-packages (from scikit-surprise) (1.10.1)\n",
            "Building wheels for collected packages: scikit-surprise\n",
            "  Building wheel for scikit-surprise (setup.py) ... \u001b[?25l\u001b[?25hdone\n",
            "  Created wheel for scikit-surprise: filename=scikit_surprise-1.1.3-cp310-cp310-linux_x86_64.whl size=3095431 sha256=841c2def170c93459014f1fd063984d2da803b2847b8583619c9c10d992bc0b0\n",
            "  Stored in directory: /root/.cache/pip/wheels/a5/ca/a8/4e28def53797fdc4363ca4af740db15a9c2f1595ebc51fb445\n",
            "Successfully built scikit-surprise\n",
            "Installing collected packages: scikit-surprise\n",
            "Successfully installed scikit-surprise-1.1.3\n"
          ]
        }
      ]
    },
    {
      "cell_type": "code",
      "source": [
        "# Import the required libraries\n",
        "import pandas as pd\n",
        "from surprise import Reader, Dataset, SVD\n",
        "from surprise.model_selection import train_test_split\n",
        "\n",
        "# Load the dataset files\n",
        "members = pd.read_csv('members.csv')\n",
        "songs = pd.read_csv('songs.csv')\n",
        "train = pd.read_csv('train.csv')\n",
        "\n",
        "# Create a Surprise Reader object\n",
        "reader = Reader(rating_scale=(0, 1))\n",
        "\n",
        "# Load the data into Surprise Dataset format\n",
        "data = Dataset.load_from_df(train[['msno', 'song_id', 'target']], reader)\n",
        "\n",
        "# Split the data into train and test sets\n",
        "train_data, test_data = train_test_split(data, test_size=0.2, random_state=42)\n",
        "\n",
        "# Define the collaborative filtering algorithm (SVD)\n",
        "algo = SVD()\n",
        "\n",
        "# Train the algorithm on the training data\n",
        "algo.fit(train_data)\n",
        "\n",
        "# Make predictions on the test data\n",
        "predictions = algo.test(test_data)\n",
        "\n",
        "# Evaluate the performance of the model (optional)\n",
        "from surprise import accuracy\n",
        "accuracy.rmse(predictions)\n",
        "\n",
        "# Get recommendations for a user\n",
        "user_id = 'user123'  # replace with the actual user ID\n",
        "num_recommendations = 10  # specify the number of recommendations to generate\n",
        "\n",
        "# Retrieve the list of all songs\n",
        "all_songs = songs['song_id'].unique()\n",
        "\n",
        "# Filter out the songs already listened to by the user\n",
        "listened_songs = train[train['msno'] == user_id]['song_id'].unique()\n",
        "unlistened_songs = list(set(all_songs) - set(listened_songs))\n",
        "\n",
        "# Predict ratings for unlistened songs\n",
        "user_predictions = [algo.predict(user_id, song_id) for song_id in unlistened_songs]\n",
        "\n",
        "# Sort the predictions by the estimated rating\n",
        "user_predictions.sort(key=lambda x: x.est, reverse=True)\n",
        "\n",
        "# Get the top N recommendations\n",
        "top_recommendations = [pred.iid for pred in user_predictions[:num_recommendations]]\n",
        "\n",
        "# Print the top recommendations\n",
        "print(\"Top\", num_recommendations, \"recommendations for user\", user_id, \":\")\n",
        "print(top_recommendations)\n"
      ],
      "metadata": {
        "id": "ZMTtV440OYg4",
        "outputId": "568d753d-90f4-42f0-b775-debdb7e78c05",
        "colab": {
          "base_uri": "https://localhost:8080/"
        }
      },
      "execution_count": null,
      "outputs": [
        {
          "output_type": "stream",
          "name": "stdout",
          "text": [
            "RMSE: 0.5023\n",
            "Top 10 recommendations for user user123 :\n",
            "['qvissY1JrwJuAO674prrBpj7qrqEvD86I0FjUi7P+CQ=', 'y9qYIofGR2f0DduejQ9dXM0penB0sKXrrW8Cl1ga3N4=', 'lsI+AkolhCnJwf3iPnbOK9znT0mZfA1i6HF08Daojxg=', 'huUbeheuJWiOxavvrOyLcKdm7ahopPp5JaSXCBNzDTg=', 'zsJQbdHU78p2g74v/cyYPGrqd3kXOxzcKDQUtbJa9YI=', 'UtF9W2EjIKQbGr/xkNHyEdg7ExGe9YnVZWrQL/QCPHs=', 'qmXuTvxf9Yg23RpTdAq2G1jN2f/fC/CMmCNrJ7tNx40=', 'QH8Ip3ePQEgosSj7vkUGOtQJPiKTkhS54SyvURhRk00=', 'Ncbo7oLyd/wjwqpC5G+zeBkZSDgEMVMm6O1OtZZElxc=', 'fJH82FxHxO9Xt6r53pEhEecUSBbIi81RCII98qaWKNE=']\n"
          ]
        }
      ]
    }
  ]
}