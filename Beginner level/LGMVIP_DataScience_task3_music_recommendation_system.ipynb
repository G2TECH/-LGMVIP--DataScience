{
  "metadata": {
    "kernelspec": {
      "language": "python",
      "display_name": "Python 3",
      "name": "python3"
    },
    "language_info": {
      "pygments_lexer": "ipython3",
      "nbconvert_exporter": "python",
      "version": "3.6.4",
      "file_extension": ".py",
      "codemirror_mode": {
        "name": "ipython",
        "version": 3
      },
      "name": "python",
      "mimetype": "text/x-python"
    },
    "colab": {
      "provenance": []
    }
  },
  "nbformat_minor": 0,
  "nbformat": 4,
  "cells": [
    {
      "cell_type": "markdown",
      "source": [
        "# **Load Libraries**"
      ],
      "metadata": {
        "id": "7fZb_D3RQqeF"
      }
    },
    {
      "cell_type": "code",
      "source": [
        "import pandas as pd\n",
        "import numpy as np\n",
        "pd.set_option('display.max_columns', None)\n",
        "import warnings\n",
        "warnings.filterwarnings('ignore')"
      ],
      "metadata": {
        "execution": {
          "iopub.status.busy": "2022-09-20T17:20:39.748526Z",
          "iopub.execute_input": "2022-09-20T17:20:39.749134Z",
          "iopub.status.idle": "2022-09-20T17:20:39.784303Z",
          "shell.execute_reply.started": "2022-09-20T17:20:39.749011Z",
          "shell.execute_reply": "2022-09-20T17:20:39.78314Z"
        },
        "trusted": true,
        "id": "6aDvMIsHQqeI"
      },
      "execution_count": null,
      "outputs": []
    },
    {
      "cell_type": "code",
      "source": [
        "import string\n",
        "import math\n",
        "import missingno as msno\n",
        "\n",
        "import matplotlib.pyplot as plt\n",
        "import seaborn as sns\n",
        "%matplotlib inline"
      ],
      "metadata": {
        "execution": {
          "iopub.status.busy": "2022-09-20T17:20:39.786484Z",
          "iopub.execute_input": "2022-09-20T17:20:39.786914Z",
          "iopub.status.idle": "2022-09-20T17:20:40.787701Z",
          "shell.execute_reply.started": "2022-09-20T17:20:39.786878Z",
          "shell.execute_reply": "2022-09-20T17:20:40.786689Z"
        },
        "trusted": true,
        "id": "r860Bh9CQqeJ"
      },
      "execution_count": null,
      "outputs": []
    },
    {
      "cell_type": "code",
      "source": [
        "from sklearn.model_selection import train_test_split, GridSearchCV, RandomizedSearchCV, StratifiedKFold\n",
        "from sklearn.metrics import roc_curve, roc_auc_score, accuracy_score, confusion_matrix, classification_report\n",
        "from sklearn.preprocessing import LabelEncoder, OneHotEncoder, MinMaxScaler\n",
        "from sklearn.ensemble import RandomForestClassifier, ExtraTreesClassifier\n",
        "\n",
        "import lightgbm as lgbm\n",
        "import xgboost as xgb\n"
      ],
      "metadata": {
        "trusted": true,
        "id": "nQTfNumdQqeJ"
      },
      "execution_count": null,
      "outputs": []
    },
    {
      "cell_type": "markdown",
      "source": [
        "# **Load Datasets**"
      ],
      "metadata": {
        "id": "1SdNhnoWQqeJ"
      }
    },
    {
      "cell_type": "code",
      "source": [
        "!pip install py7zr\n",
        "import py7zr"
      ],
      "metadata": {
        "execution": {
          "iopub.status.busy": "2022-09-20T17:20:42.690878Z",
          "iopub.execute_input": "2022-09-20T17:20:42.691246Z",
          "iopub.status.idle": "2022-09-20T17:21:00.694789Z",
          "shell.execute_reply.started": "2022-09-20T17:20:42.691214Z",
          "shell.execute_reply": "2022-09-20T17:21:00.693376Z"
        },
        "trusted": true,
        "colab": {
          "base_uri": "https://localhost:8080/"
        },
        "id": "OKM-fQrpQqeK",
        "outputId": "1f706dbd-c65d-445d-817f-93e9a74bf3bc"
      },
      "execution_count": null,
      "outputs": [
        {
          "output_type": "stream",
          "name": "stdout",
          "text": [
            "Looking in indexes: https://pypi.org/simple, https://us-python.pkg.dev/colab-wheels/public/simple/\n",
            "Collecting py7zr\n",
            "  Downloading py7zr-0.20.5-py3-none-any.whl (66 kB)\n",
            "\u001b[2K     \u001b[90m━━━━━━━━━━━━━━━━━━━━━━━━━━━━━━━━━━━━━━━━\u001b[0m \u001b[32m66.4/66.4 kB\u001b[0m \u001b[31m2.4 MB/s\u001b[0m eta \u001b[36m0:00:00\u001b[0m\n",
            "\u001b[?25hCollecting texttable (from py7zr)\n",
            "  Downloading texttable-1.6.7-py2.py3-none-any.whl (10 kB)\n",
            "Collecting pycryptodomex>=3.6.6 (from py7zr)\n",
            "  Downloading pycryptodomex-3.18.0-cp35-abi3-manylinux_2_17_x86_64.manylinux2014_x86_64.whl (2.1 MB)\n",
            "\u001b[2K     \u001b[90m━━━━━━━━━━━━━━━━━━━━━━━━━━━━━━━━━━━━━━━━\u001b[0m \u001b[32m2.1/2.1 MB\u001b[0m \u001b[31m31.8 MB/s\u001b[0m eta \u001b[36m0:00:00\u001b[0m\n",
            "\u001b[?25hCollecting pyzstd>=0.14.4 (from py7zr)\n",
            "  Downloading pyzstd-0.15.7-cp310-cp310-manylinux_2_17_x86_64.manylinux2014_x86_64.whl (399 kB)\n",
            "\u001b[2K     \u001b[90m━━━━━━━━━━━━━━━━━━━━━━━━━━━━━━━━━━━━━━\u001b[0m \u001b[32m399.3/399.3 kB\u001b[0m \u001b[31m31.0 MB/s\u001b[0m eta \u001b[36m0:00:00\u001b[0m\n",
            "\u001b[?25hCollecting pyppmd<1.1.0,>=0.18.1 (from py7zr)\n",
            "  Downloading pyppmd-1.0.0-cp310-cp310-manylinux_2_17_x86_64.manylinux2014_x86_64.whl (138 kB)\n",
            "\u001b[2K     \u001b[90m━━━━━━━━━━━━━━━━━━━━━━━━━━━━━━━━━━━━━━\u001b[0m \u001b[32m138.8/138.8 kB\u001b[0m \u001b[31m14.0 MB/s\u001b[0m eta \u001b[36m0:00:00\u001b[0m\n",
            "\u001b[?25hCollecting pybcj>=0.6.0 (from py7zr)\n",
            "  Downloading pybcj-1.0.1-cp310-cp310-manylinux_2_17_x86_64.manylinux2014_x86_64.whl (49 kB)\n",
            "\u001b[2K     \u001b[90m━━━━━━━━━━━━━━━━━━━━━━━━━━━━━━━━━━━━━━━━\u001b[0m \u001b[32m49.8/49.8 kB\u001b[0m \u001b[31m4.9 MB/s\u001b[0m eta \u001b[36m0:00:00\u001b[0m\n",
            "\u001b[?25hCollecting multivolumefile>=0.2.3 (from py7zr)\n",
            "  Downloading multivolumefile-0.2.3-py3-none-any.whl (17 kB)\n",
            "Collecting brotli>=1.0.9 (from py7zr)\n",
            "  Downloading Brotli-1.0.9-cp310-cp310-manylinux_2_5_x86_64.manylinux1_x86_64.manylinux_2_12_x86_64.manylinux2010_x86_64.whl (2.7 MB)\n",
            "\u001b[2K     \u001b[90m━━━━━━━━━━━━━━━━━━━━━━━━━━━━━━━━━━━━━━━━\u001b[0m \u001b[32m2.7/2.7 MB\u001b[0m \u001b[31m57.7 MB/s\u001b[0m eta \u001b[36m0:00:00\u001b[0m\n",
            "\u001b[?25hCollecting inflate64>=0.3.1 (from py7zr)\n",
            "  Downloading inflate64-0.3.1-cp310-cp310-manylinux_2_17_x86_64.manylinux2014_x86_64.whl (93 kB)\n",
            "\u001b[2K     \u001b[90m━━━━━━━━━━━━━━━━━━━━━━━━━━━━━━━━━━━━━━━━\u001b[0m \u001b[32m93.1/93.1 kB\u001b[0m \u001b[31m9.9 MB/s\u001b[0m eta \u001b[36m0:00:00\u001b[0m\n",
            "\u001b[?25hRequirement already satisfied: psutil in /usr/local/lib/python3.10/dist-packages (from py7zr) (5.9.5)\n",
            "Installing collected packages: texttable, brotli, pyzstd, pyppmd, pycryptodomex, pybcj, multivolumefile, inflate64, py7zr\n",
            "Successfully installed brotli-1.0.9 inflate64-0.3.1 multivolumefile-0.2.3 py7zr-0.20.5 pybcj-1.0.1 pycryptodomex-3.18.0 pyppmd-1.0.0 pyzstd-0.15.7 texttable-1.6.7\n"
          ]
        }
      ]
    },
    {
      "cell_type": "code",
      "source": [],
      "metadata": {
        "execution": {
          "iopub.status.busy": "2022-09-20T17:21:00.698597Z",
          "iopub.execute_input": "2022-09-20T17:21:00.699287Z",
          "iopub.status.idle": "2022-09-20T17:21:49.879534Z",
          "shell.execute_reply.started": "2022-09-20T17:21:00.699205Z",
          "shell.execute_reply": "2022-09-20T17:21:49.87809Z"
        },
        "trusted": true,
        "id": "CT9xWoA3QqeK"
      },
      "execution_count": null,
      "outputs": []
    },
    {
      "cell_type": "code",
      "source": [
        "import os\n",
        "os.listdir('/kaggle/temp/')"
      ],
      "metadata": {
        "execution": {
          "iopub.status.busy": "2022-09-20T17:21:49.881319Z",
          "iopub.execute_input": "2022-09-20T17:21:49.881732Z",
          "iopub.status.idle": "2022-09-20T17:21:49.89218Z",
          "shell.execute_reply.started": "2022-09-20T17:21:49.881698Z",
          "shell.execute_reply": "2022-09-20T17:21:49.890673Z"
        },
        "trusted": true,
        "colab": {
          "base_uri": "https://localhost:8080/",
          "height": 196
        },
        "id": "sIqK1uGUQqeK",
        "outputId": "957713ef-070f-4c3c-cf22-8b1ab74e3e83"
      },
      "execution_count": null,
      "outputs": [
        {
          "output_type": "error",
          "ename": "FileNotFoundError",
          "evalue": "ignored",
          "traceback": [
            "\u001b[0;31m---------------------------------------------------------------------------\u001b[0m",
            "\u001b[0;31mFileNotFoundError\u001b[0m                         Traceback (most recent call last)",
            "\u001b[0;32m<ipython-input-10-9cdf59567bdd>\u001b[0m in \u001b[0;36m<cell line: 2>\u001b[0;34m()\u001b[0m\n\u001b[1;32m      1\u001b[0m \u001b[0;32mimport\u001b[0m \u001b[0mos\u001b[0m\u001b[0;34m\u001b[0m\u001b[0;34m\u001b[0m\u001b[0m\n\u001b[0;32m----> 2\u001b[0;31m \u001b[0mos\u001b[0m\u001b[0;34m.\u001b[0m\u001b[0mlistdir\u001b[0m\u001b[0;34m(\u001b[0m\u001b[0;34m'/kaggle/temp/'\u001b[0m\u001b[0;34m)\u001b[0m\u001b[0;34m\u001b[0m\u001b[0;34m\u001b[0m\u001b[0m\n\u001b[0m",
            "\u001b[0;31mFileNotFoundError\u001b[0m: [Errno 2] No such file or directory: '/kaggle/temp/'"
          ]
        }
      ]
    },
    {
      "cell_type": "code",
      "source": [
        "songs_df = pd.read_csv(\"/kaggle/temp/songs.csv\")\n",
        "song_extra_df = pd.read_csv('/kaggle/temp/song_extra_info.csv')\n",
        "members_df = pd.read_csv(\"/kaggle/temp/members.csv\")\n",
        "train_df = pd.read_csv(\"/kaggle/temp/train.csv\", nrows = 100000)"
      ],
      "metadata": {
        "execution": {
          "iopub.status.busy": "2022-09-20T17:21:49.893735Z",
          "iopub.execute_input": "2022-09-20T17:21:49.894063Z",
          "iopub.status.idle": "2022-09-20T17:22:10.054444Z",
          "shell.execute_reply.started": "2022-09-20T17:21:49.894035Z",
          "shell.execute_reply": "2022-09-20T17:22:10.051162Z"
        },
        "trusted": true,
        "id": "6D-ZSYtoQqeK"
      },
      "execution_count": null,
      "outputs": []
    },
    {
      "cell_type": "code",
      "source": [
        "songs_df.head()"
      ],
      "metadata": {
        "execution": {
          "iopub.status.busy": "2022-09-20T17:22:10.058523Z",
          "iopub.execute_input": "2022-09-20T17:22:10.059121Z",
          "iopub.status.idle": "2022-09-20T17:22:10.101641Z",
          "shell.execute_reply.started": "2022-09-20T17:22:10.059034Z",
          "shell.execute_reply": "2022-09-20T17:22:10.100098Z"
        },
        "trusted": true,
        "id": "aC7phsYVQqeK"
      },
      "execution_count": null,
      "outputs": []
    },
    {
      "cell_type": "code",
      "source": [
        "train_df.head()"
      ],
      "metadata": {
        "execution": {
          "iopub.status.busy": "2022-09-20T17:22:10.103506Z",
          "iopub.execute_input": "2022-09-20T17:22:10.10412Z",
          "iopub.status.idle": "2022-09-20T17:22:10.118572Z",
          "shell.execute_reply.started": "2022-09-20T17:22:10.104081Z",
          "shell.execute_reply": "2022-09-20T17:22:10.117335Z"
        },
        "trusted": true,
        "id": "Jk4q5U1EQqeK"
      },
      "execution_count": null,
      "outputs": []
    },
    {
      "cell_type": "code",
      "source": [
        "song_extra_df.head()"
      ],
      "metadata": {
        "execution": {
          "iopub.status.busy": "2022-09-20T17:22:10.120631Z",
          "iopub.execute_input": "2022-09-20T17:22:10.121018Z",
          "iopub.status.idle": "2022-09-20T17:22:10.138884Z",
          "shell.execute_reply.started": "2022-09-20T17:22:10.120987Z",
          "shell.execute_reply": "2022-09-20T17:22:10.137085Z"
        },
        "trusted": true,
        "id": "J1S59dCwQqeL"
      },
      "execution_count": null,
      "outputs": []
    },
    {
      "cell_type": "code",
      "source": [
        "members_df.head()"
      ],
      "metadata": {
        "execution": {
          "iopub.status.busy": "2022-09-20T17:22:10.14094Z",
          "iopub.execute_input": "2022-09-20T17:22:10.14142Z",
          "iopub.status.idle": "2022-09-20T17:22:10.157672Z",
          "shell.execute_reply.started": "2022-09-20T17:22:10.141366Z",
          "shell.execute_reply": "2022-09-20T17:22:10.156436Z"
        },
        "trusted": true,
        "id": "_a0JNfyCQqeL"
      },
      "execution_count": null,
      "outputs": []
    },
    {
      "cell_type": "code",
      "source": [
        "merge_1 = pd.merge(train_df, songs_df, on = 'song_id', how = 'left')\n",
        "merge_2 = pd.merge(merge_1, song_extra_df, on = 'song_id', how = 'left')\n",
        "songs = pd.merge(merge_2, members_df, on = 'msno', how = 'left')\n",
        "del train_df, songs_df, song_extra_df, members_df, merge_1, merge_2\n",
        "songs.head()"
      ],
      "metadata": {
        "execution": {
          "iopub.status.busy": "2022-09-20T17:22:10.159356Z",
          "iopub.execute_input": "2022-09-20T17:22:10.159823Z",
          "iopub.status.idle": "2022-09-20T17:22:15.841766Z",
          "shell.execute_reply.started": "2022-09-20T17:22:10.159792Z",
          "shell.execute_reply": "2022-09-20T17:22:15.840508Z"
        },
        "trusted": true,
        "id": "_vWhG7-lQqeL"
      },
      "execution_count": null,
      "outputs": []
    },
    {
      "cell_type": "code",
      "source": [
        "songs.info()"
      ],
      "metadata": {
        "execution": {
          "iopub.status.busy": "2022-09-20T17:22:15.843846Z",
          "iopub.execute_input": "2022-09-20T17:22:15.844998Z",
          "iopub.status.idle": "2022-09-20T17:22:15.952333Z",
          "shell.execute_reply.started": "2022-09-20T17:22:15.844941Z",
          "shell.execute_reply": "2022-09-20T17:22:15.950632Z"
        },
        "trusted": true,
        "id": "ijByfaYoQqeL"
      },
      "execution_count": null,
      "outputs": []
    },
    {
      "cell_type": "markdown",
      "source": [
        "# **Dealing Missing values**"
      ],
      "metadata": {
        "id": "9_dq2eZkQqeM"
      }
    },
    {
      "cell_type": "code",
      "source": [
        "songs.shape"
      ],
      "metadata": {
        "execution": {
          "iopub.status.busy": "2022-09-20T17:22:15.958448Z",
          "iopub.execute_input": "2022-09-20T17:22:15.958853Z",
          "iopub.status.idle": "2022-09-20T17:22:15.965759Z",
          "shell.execute_reply.started": "2022-09-20T17:22:15.958818Z",
          "shell.execute_reply": "2022-09-20T17:22:15.964897Z"
        },
        "trusted": true,
        "id": "cJvR7hxEQqeM"
      },
      "execution_count": null,
      "outputs": []
    },
    {
      "cell_type": "code",
      "source": [
        "songs.isnull().sum()"
      ],
      "metadata": {
        "execution": {
          "iopub.status.busy": "2022-09-20T17:22:15.967475Z",
          "iopub.execute_input": "2022-09-20T17:22:15.967929Z",
          "iopub.status.idle": "2022-09-20T17:22:16.059702Z",
          "shell.execute_reply.started": "2022-09-20T17:22:15.967875Z",
          "shell.execute_reply": "2022-09-20T17:22:16.058378Z"
        },
        "trusted": true,
        "id": "TtqpYuqCQqeM"
      },
      "execution_count": null,
      "outputs": []
    },
    {
      "cell_type": "code",
      "source": [
        "msno.matrix(songs)"
      ],
      "metadata": {
        "execution": {
          "iopub.status.busy": "2022-09-20T17:22:16.061322Z",
          "iopub.execute_input": "2022-09-20T17:22:16.06173Z",
          "iopub.status.idle": "2022-09-20T17:22:18.11991Z",
          "shell.execute_reply.started": "2022-09-20T17:22:16.061697Z",
          "shell.execute_reply": "2022-09-20T17:22:18.118769Z"
        },
        "trusted": true,
        "id": "Pmp3RSlxQqeM"
      },
      "execution_count": null,
      "outputs": []
    },
    {
      "cell_type": "code",
      "source": [
        "for i in songs.select_dtypes(include=['object']).columns:\n",
        "    songs[i][songs[i].isnull()] = 'unknown'\n",
        "songs.fillna(value = 0).tail()"
      ],
      "metadata": {
        "execution": {
          "iopub.status.busy": "2022-09-20T17:22:18.120943Z",
          "iopub.execute_input": "2022-09-20T17:22:18.121284Z",
          "iopub.status.idle": "2022-09-20T17:22:18.422035Z",
          "shell.execute_reply.started": "2022-09-20T17:22:18.121253Z",
          "shell.execute_reply": "2022-09-20T17:22:18.420678Z"
        },
        "trusted": true,
        "id": "fn_7CQYtQqeM"
      },
      "execution_count": null,
      "outputs": []
    },
    {
      "cell_type": "code",
      "source": [
        "msno.matrix(songs)"
      ],
      "metadata": {
        "execution": {
          "iopub.status.busy": "2022-09-20T17:22:18.424019Z",
          "iopub.execute_input": "2022-09-20T17:22:18.424397Z",
          "iopub.status.idle": "2022-09-20T17:22:19.78969Z",
          "shell.execute_reply.started": "2022-09-20T17:22:18.424332Z",
          "shell.execute_reply": "2022-09-20T17:22:19.788424Z"
        },
        "trusted": true,
        "id": "nCnHvpO3QqeM"
      },
      "execution_count": null,
      "outputs": []
    },
    {
      "cell_type": "markdown",
      "source": [
        "# **Extracting new Features**"
      ],
      "metadata": {
        "id": "Ez1xOPspQqeN"
      }
    },
    {
      "cell_type": "code",
      "source": [
        "# registration_init_time\n",
        "songs.registration_init_time = pd.to_datetime(songs.registration_init_time, format='%Y%m%d', errors='ignore')\n",
        "songs['registration_init_time_year'] = songs['registration_init_time'].dt.year\n",
        "songs['registration_init_time_month'] = songs['registration_init_time'].dt.month\n",
        "songs['registration_init_time_day'] = songs['registration_init_time'].dt.day\n",
        "\n",
        "# expiration_date\n",
        "songs.expiration_date = pd.to_datetime(songs.expiration_date,  format='%Y%m%d', errors='ignore')\n",
        "songs['expiration_date_year'] = songs['expiration_date'].dt.year\n",
        "songs['expiration_date_month'] = songs['expiration_date'].dt.month\n",
        "songs['expiration_date_day'] = songs['expiration_date'].dt.day"
      ],
      "metadata": {
        "execution": {
          "iopub.status.busy": "2022-09-20T17:22:19.791665Z",
          "iopub.execute_input": "2022-09-20T17:22:19.792481Z",
          "iopub.status.idle": "2022-09-20T17:22:19.891705Z",
          "shell.execute_reply.started": "2022-09-20T17:22:19.792427Z",
          "shell.execute_reply": "2022-09-20T17:22:19.890452Z"
        },
        "trusted": true,
        "id": "kGfjXJbpQqeN"
      },
      "execution_count": null,
      "outputs": []
    },
    {
      "cell_type": "code",
      "source": [
        "songs.head()"
      ],
      "metadata": {
        "execution": {
          "iopub.status.busy": "2022-09-20T17:22:19.893209Z",
          "iopub.execute_input": "2022-09-20T17:22:19.893851Z",
          "iopub.status.idle": "2022-09-20T17:22:19.92263Z",
          "shell.execute_reply.started": "2022-09-20T17:22:19.893809Z",
          "shell.execute_reply": "2022-09-20T17:22:19.921082Z"
        },
        "trusted": true,
        "id": "qEntW3UVQqeN"
      },
      "execution_count": null,
      "outputs": []
    },
    {
      "cell_type": "code",
      "source": [
        "label_encoder = LabelEncoder()\n",
        "one_hot = OneHotEncoder()\n",
        "\n",
        "for i in songs.columns :\n",
        "    songs[i] = label_encoder.fit_transform(songs[i])"
      ],
      "metadata": {
        "execution": {
          "iopub.status.busy": "2022-09-20T17:22:19.924176Z",
          "iopub.execute_input": "2022-09-20T17:22:19.924671Z",
          "iopub.status.idle": "2022-09-20T17:22:20.839025Z",
          "shell.execute_reply.started": "2022-09-20T17:22:19.924621Z",
          "shell.execute_reply": "2022-09-20T17:22:20.837906Z"
        },
        "trusted": true,
        "id": "iWPKI3aoQqeN"
      },
      "execution_count": null,
      "outputs": []
    },
    {
      "cell_type": "code",
      "source": [
        "songs.head()"
      ],
      "metadata": {
        "execution": {
          "iopub.status.busy": "2022-09-20T17:22:20.840557Z",
          "iopub.execute_input": "2022-09-20T17:22:20.841903Z",
          "iopub.status.idle": "2022-09-20T17:22:20.862473Z",
          "shell.execute_reply.started": "2022-09-20T17:22:20.841857Z",
          "shell.execute_reply": "2022-09-20T17:22:20.861454Z"
        },
        "trusted": true,
        "id": "z03-cY64QqeN"
      },
      "execution_count": null,
      "outputs": []
    },
    {
      "cell_type": "code",
      "source": [
        "# Сorrelation matrix\n",
        "plt.figure(figsize=[15,10])\n",
        "sns.heatmap(songs.corr()) #annot = True\n",
        "plt.show()"
      ],
      "metadata": {
        "execution": {
          "iopub.status.busy": "2022-09-20T17:22:20.863613Z",
          "iopub.execute_input": "2022-09-20T17:22:20.86454Z",
          "iopub.status.idle": "2022-09-20T17:22:21.886399Z",
          "shell.execute_reply.started": "2022-09-20T17:22:20.864498Z",
          "shell.execute_reply": "2022-09-20T17:22:21.885258Z"
        },
        "trusted": true,
        "id": "RnoSBpfKQqeN"
      },
      "execution_count": null,
      "outputs": []
    },
    {
      "cell_type": "markdown",
      "source": [
        "# **Modeling**"
      ],
      "metadata": {
        "id": "WEfZOxV-QqeO"
      }
    },
    {
      "cell_type": "code",
      "source": [
        "songs.columns"
      ],
      "metadata": {
        "execution": {
          "iopub.status.busy": "2022-09-20T17:22:21.888294Z",
          "iopub.execute_input": "2022-09-20T17:22:21.889035Z",
          "iopub.status.idle": "2022-09-20T17:22:21.898087Z",
          "shell.execute_reply.started": "2022-09-20T17:22:21.888989Z",
          "shell.execute_reply": "2022-09-20T17:22:21.896849Z"
        },
        "trusted": true,
        "id": "_0Xvmy5SQqeO"
      },
      "execution_count": null,
      "outputs": []
    },
    {
      "cell_type": "code",
      "source": [
        "X = songs.drop('target', axis = 1)\n",
        "y = songs['target']\n",
        "X_train, X_val, y_train, y_val = train_test_split(X, y, test_size = 0.25, random_state = 0)"
      ],
      "metadata": {
        "execution": {
          "iopub.status.busy": "2022-09-20T17:22:21.899876Z",
          "iopub.execute_input": "2022-09-20T17:22:21.900725Z",
          "iopub.status.idle": "2022-09-20T17:22:21.974424Z",
          "shell.execute_reply.started": "2022-09-20T17:22:21.900678Z",
          "shell.execute_reply": "2022-09-20T17:22:21.972653Z"
        },
        "trusted": true,
        "id": "vfCwsAktQqeO"
      },
      "execution_count": null,
      "outputs": []
    },
    {
      "cell_type": "code",
      "source": [
        "def model_with(model_name, X_train, X_val, y_train, y_val) :\n",
        "    print(\"==================================================\")\n",
        "    print(\"Modeling with :\", model_name)\n",
        "    print()\n",
        "        \n",
        "    if model_name == \"Random Forest Classifier\" :\n",
        "        model = RandomForestClassifier(\n",
        "            n_estimators=1000, \n",
        "        )\n",
        "    elif model_name == \"Extra Trees Classifier\" :\n",
        "        model = ExtraTreesClassifier(\n",
        "            n_estimators=1000, \n",
        "        )\n",
        "    elif model_name == \"LightGBM Classifier\" :\n",
        "        model = lgbm.LGBMClassifier(\n",
        "            n_estimators=1000, \n",
        "        )\n",
        "    elif model_name == \"XGBoost Classifier\" :\n",
        "        model = xgb.XGBClassifier(\n",
        "            n_estimators=1000, \n",
        "        )\n",
        "    elif model_name == \"CatBoost Classifier\" :\n",
        "        model = cb.CatBoostClassifier(\n",
        "            n_estimators=1000, \n",
        "            verbose=0\n",
        "        )\n",
        "    else :\n",
        "        print(\"Model not found in function.\")\n",
        "        \n",
        "    model.fit(X_train, y_train)\n",
        "    \n",
        "    val_pred = model.predict(X_val)\n",
        "    print(classification_report(y_val, val_pred))\n",
        "    print()\n",
        "    print(\"Accuracy :\", accuracy_score(y_val, val_pred))\n",
        "    print(\"ROC :\", roc_auc_score(y_val, val_pred))\n",
        "    \n",
        "    print(\"==================================================\")\n",
        "    print()"
      ],
      "metadata": {
        "execution": {
          "iopub.status.busy": "2022-09-20T17:22:21.976359Z",
          "iopub.execute_input": "2022-09-20T17:22:21.976726Z",
          "iopub.status.idle": "2022-09-20T17:22:21.98747Z",
          "shell.execute_reply.started": "2022-09-20T17:22:21.976692Z",
          "shell.execute_reply": "2022-09-20T17:22:21.985783Z"
        },
        "trusted": true,
        "id": "vQQIMla6QqeO"
      },
      "execution_count": null,
      "outputs": []
    },
    {
      "cell_type": "code",
      "source": [
        "models = [\"Random Forest Classifier\", \"Extra Trees Classifier\", \"LightGBM Classifier\", \"XGBoost Classifier\", \"CatBoost Classifier\"]\n",
        "for i in models :\n",
        "    model_with(i, X_train, X_val, y_train, y_val)"
      ],
      "metadata": {
        "execution": {
          "iopub.status.busy": "2022-09-20T17:22:21.989149Z",
          "iopub.execute_input": "2022-09-20T17:22:21.989594Z",
          "iopub.status.idle": "2022-09-20T17:33:18.243174Z",
          "shell.execute_reply.started": "2022-09-20T17:22:21.989544Z",
          "shell.execute_reply": "2022-09-20T17:33:18.241611Z"
        },
        "trusted": true,
        "id": "t-pM6hhgQqeO"
      },
      "execution_count": null,
      "outputs": []
    },
    {
      "cell_type": "markdown",
      "source": [
        "# **Random Forest with Class weights**"
      ],
      "metadata": {
        "id": "djLNJbeUQqeP"
      }
    },
    {
      "cell_type": "code",
      "source": [
        "rf = RandomForestClassifier(\n",
        "        n_estimators = 1000,\n",
        "        class_weight={0: 1.0050505050505052, 1: 0.9949494949494948}\n",
        ")\n",
        "rf.fit(X_train, y_train)"
      ],
      "metadata": {
        "execution": {
          "iopub.status.busy": "2022-09-20T17:33:18.245336Z",
          "iopub.execute_input": "2022-09-20T17:33:18.245849Z",
          "iopub.status.idle": "2022-09-20T17:38:56.471832Z",
          "shell.execute_reply.started": "2022-09-20T17:33:18.245803Z",
          "shell.execute_reply": "2022-09-20T17:38:56.470537Z"
        },
        "trusted": true,
        "id": "uM-5Zy63QqeP"
      },
      "execution_count": null,
      "outputs": []
    },
    {
      "cell_type": "code",
      "source": [
        "val_pred = rf.predict(X_val)\n",
        "print(\"Accuracy :\", accuracy_score(y_val, val_pred))"
      ],
      "metadata": {
        "execution": {
          "iopub.status.busy": "2022-09-20T17:38:56.473407Z",
          "iopub.execute_input": "2022-09-20T17:38:56.474517Z",
          "iopub.status.idle": "2022-09-20T17:39:05.622386Z",
          "shell.execute_reply.started": "2022-09-20T17:38:56.474467Z",
          "shell.execute_reply": "2022-09-20T17:39:05.621116Z"
        },
        "trusted": true,
        "id": "MxTF5_pLQqeP"
      },
      "execution_count": null,
      "outputs": []
    },
    {
      "cell_type": "code",
      "source": [
        "# without classweights\n",
        "rf = RandomForestClassifier(\n",
        "        n_estimators = 1000\n",
        ")\n",
        "rf.fit(X_train, y_train)\n",
        "val_pred = rf.predict(X_val)\n",
        "print(\"Accuracy :\", accuracy_score(y_val, val_pred))"
      ],
      "metadata": {
        "execution": {
          "iopub.status.busy": "2022-09-20T17:39:05.624102Z",
          "iopub.execute_input": "2022-09-20T17:39:05.624619Z",
          "iopub.status.idle": "2022-09-20T17:44:54.039937Z",
          "shell.execute_reply.started": "2022-09-20T17:39:05.624572Z",
          "shell.execute_reply": "2022-09-20T17:44:54.038651Z"
        },
        "trusted": true,
        "id": "wCH5fevcQqeP"
      },
      "execution_count": null,
      "outputs": []
    },
    {
      "cell_type": "markdown",
      "source": [
        "## *Thanks for cheking this notebook!*"
      ],
      "metadata": {
        "id": "jbJKu0caQqeP"
      }
    }
  ]
}