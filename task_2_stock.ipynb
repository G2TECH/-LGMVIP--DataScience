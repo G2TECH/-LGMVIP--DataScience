{
  "nbformat": 4,
  "nbformat_minor": 0,
  "metadata": {
    "colab": {
      "provenance": [],
      "authorship_tag": "ABX9TyNPzoCASQWSIep9EtebZIC9",
      "include_colab_link": true
    },
    "kernelspec": {
      "name": "python3",
      "display_name": "Python 3"
    },
    "language_info": {
      "name": "python"
    }
  },
  "cells": [
    {
      "cell_type": "markdown",
      "metadata": {
        "id": "view-in-github",
        "colab_type": "text"
      },
      "source": [
        "<a href=\"https://colab.research.google.com/github/G2TECH/-LGMVIP--DataScience/blob/Beginner-Task/task_2_stock.ipynb\" target=\"_parent\"><img src=\"https://colab.research.google.com/assets/colab-badge.svg\" alt=\"Open In Colab\"/></a>"
      ]
    },
    {
      "cell_type": "code",
      "execution_count": null,
      "metadata": {
        "id": "i1ua_HPZNclQ"
      },
      "outputs": [],
      "source": [
        "import pandas as pd\n",
        "import numpy as np\n",
        "from sklearn.preprocessing import MinMaxScaler\n",
        "from tensorflow.keras.models import Sequential\n",
        "from tensorflow.keras.layers import LSTM, Dense"
      ]
    },
    {
      "cell_type": "code",
      "source": [
        "# Load the dataset\n",
        "url = \"https://raw.githubusercontent.com/mwitiderrick/stockprice/master/NSE-TATAGLOBAL.csv\"\n",
        "df = pd.read_csv(url)"
      ],
      "metadata": {
        "id": "Hj-KFIuuNpHl"
      },
      "execution_count": null,
      "outputs": []
    },
    {
      "cell_type": "code",
      "source": [
        "# Extract the 'Close' column for prediction\n",
        "data = df.filter(['Close']).values\n",
        "dataset = data.astype('float32')\n"
      ],
      "metadata": {
        "id": "5zTMTkvGNuhE"
      },
      "execution_count": null,
      "outputs": []
    },
    {
      "cell_type": "code",
      "source": [
        "# Normalize the dataset\n",
        "scaler = MinMaxScaler(feature_range=(0, 1))\n",
        "scaled_data = scaler.fit_transform(dataset)"
      ],
      "metadata": {
        "id": "Kgo1FCHdNwzR"
      },
      "execution_count": null,
      "outputs": []
    },
    {
      "cell_type": "code",
      "source": [
        "# Split the dataset into training and testing sets\n",
        "training_data_len = int(len(dataset) * 0.8)\n",
        "train_data = scaled_data[:training_data_len, :]\n",
        "test_data = scaled_data[training_data_len:, :]"
      ],
      "metadata": {
        "id": "y5qSlz7kNzLy"
      },
      "execution_count": null,
      "outputs": []
    },
    {
      "cell_type": "code",
      "source": [
        "# Define the function to create the training dataset\n",
        "def create_dataset(data, time_steps):\n",
        "    X, y = [], []\n",
        "    for i in range(len(data) - time_steps):\n",
        "        X.append(data[i:i+time_steps, 0])\n",
        "        y.append(data[i+time_steps, 0])\n",
        "    return np.array(X), np.array(y)\n"
      ],
      "metadata": {
        "id": "4HF9LEzhN1TU"
      },
      "execution_count": null,
      "outputs": []
    },
    {
      "cell_type": "code",
      "source": [
        "# Set the time steps\n",
        "time_steps = 60\n"
      ],
      "metadata": {
        "id": "E2p-Tf_NN3nQ"
      },
      "execution_count": null,
      "outputs": []
    },
    {
      "cell_type": "code",
      "source": [
        "# Create the training dataset\n",
        "X_train, y_train = create_dataset(train_data, time_steps)\n",
        "\n",
        "# Reshape the input data for LSTM\n",
        "X_train = np.reshape(X_train, (X_train.shape[0], X_train.shape[1], 1))"
      ],
      "metadata": {
        "id": "sVgZh8tRN6Uh"
      },
      "execution_count": null,
      "outputs": []
    },
    {
      "cell_type": "code",
      "source": [
        "# Build the LSTM model\n",
        "model = Sequential()\n",
        "model.add(LSTM(50, return_sequences=True, input_shape=(X_train.shape[1], 1)))\n",
        "model.add(LSTM(50, return_sequences=False))\n",
        "model.add(Dense(25))\n",
        "model.add(Dense(1))"
      ],
      "metadata": {
        "id": "iQb-neESN9vE"
      },
      "execution_count": null,
      "outputs": []
    },
    {
      "cell_type": "code",
      "source": [
        "\n",
        "# Compile the model\n",
        "model.compile(optimizer='adam', loss='mean_squared_error')\n"
      ],
      "metadata": {
        "id": "8473xftBOBo6"
      },
      "execution_count": null,
      "outputs": []
    },
    {
      "cell_type": "code",
      "source": [
        "# Train the model\n",
        "model.fit(X_train, y_train, epochs=10, batch_size=16)"
      ],
      "metadata": {
        "colab": {
          "base_uri": "https://localhost:8080/"
        },
        "id": "HNUL7TnVOC-9",
        "outputId": "878e123b-5fb2-4ad3-c5af-c53ea3cf7e92"
      },
      "execution_count": null,
      "outputs": [
        {
          "output_type": "stream",
          "name": "stdout",
          "text": [
            "Epoch 1/10\n",
            "98/98 [==============================] - 9s 47ms/step - loss: 0.0045\n",
            "Epoch 2/10\n",
            "98/98 [==============================] - 4s 42ms/step - loss: 8.7384e-04\n",
            "Epoch 3/10\n",
            "98/98 [==============================] - 6s 64ms/step - loss: 8.7880e-04\n",
            "Epoch 4/10\n",
            "98/98 [==============================] - 4s 40ms/step - loss: 7.4876e-04\n",
            "Epoch 5/10\n",
            "98/98 [==============================] - 4s 41ms/step - loss: 6.9355e-04\n",
            "Epoch 6/10\n",
            "98/98 [==============================] - 6s 60ms/step - loss: 6.1629e-04\n",
            "Epoch 7/10\n",
            "98/98 [==============================] - 5s 51ms/step - loss: 5.6419e-04\n",
            "Epoch 8/10\n",
            "98/98 [==============================] - 4s 41ms/step - loss: 6.9138e-04\n",
            "Epoch 9/10\n",
            "98/98 [==============================] - 6s 58ms/step - loss: 4.8954e-04\n",
            "Epoch 10/10\n",
            "98/98 [==============================] - 4s 40ms/step - loss: 5.3989e-04\n"
          ]
        },
        {
          "output_type": "execute_result",
          "data": {
            "text/plain": [
              "<keras.callbacks.History at 0x7fa0fc471ab0>"
            ]
          },
          "metadata": {},
          "execution_count": 11
        }
      ]
    },
    {
      "cell_type": "code",
      "source": [
        "# Create the testing dataset\n",
        "X_test, y_test = create_dataset(test_data, time_steps)\n"
      ],
      "metadata": {
        "id": "6lPc9FKhOFse"
      },
      "execution_count": null,
      "outputs": []
    },
    {
      "cell_type": "code",
      "source": [
        "# Reshape the input data for LSTM\n",
        "X_test = np.reshape(X_test, (X_test.shape[0], X_test.shape[1], 1))\n",
        "\n",
        "# Make predictions on the testing dataset\n",
        "predictions = model.predict(X_test)\n",
        "predictions = scaler.inverse_transform(predictions)"
      ],
      "metadata": {
        "colab": {
          "base_uri": "https://localhost:8080/"
        },
        "id": "2-EjnRlfOJ1a",
        "outputId": "4a35703d-c896-489b-a416-7f32941036f0"
      },
      "execution_count": null,
      "outputs": [
        {
          "output_type": "stream",
          "name": "stdout",
          "text": [
            "11/11 [==============================] - 2s 25ms/step\n"
          ]
        }
      ]
    },
    {
      "cell_type": "code",
      "source": [
        "# Calculate the root mean squared error (RMSE)\n",
        "rmse = np.sqrt(np.mean(predictions - y_test) ** 2)\n",
        "print(f\"Root Mean Squared Error (RMSE): {rmse}\")"
      ],
      "metadata": {
        "colab": {
          "base_uri": "https://localhost:8080/"
        },
        "id": "r-yjJjwLONYT",
        "outputId": "3c99b77e-223f-42fe-8e76-0c41b13a34ac"
      },
      "execution_count": null,
      "outputs": [
        {
          "output_type": "stream",
          "name": "stdout",
          "text": [
            "Root Mean Squared Error (RMSE): 101.34133911132812\n"
          ]
        }
      ]
    }
  ]
}